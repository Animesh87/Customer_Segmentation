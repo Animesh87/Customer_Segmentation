{
 "cells": [
  {
   "cell_type": "markdown",
   "metadata": {},
   "source": [
    "# Content Based Recommendation System"
   ]
  },
  {
   "cell_type": "code",
   "execution_count": 1,
   "metadata": {},
   "outputs": [],
   "source": [
    "import numpy as np\n",
    "import pandas as pd\n",
    "import matplotlib.pyplot as plt\n",
    "import seaborn as sns\n",
    "import warnings\n",
    "warnings.filterwarnings(\"ignore\")\n",
    "from sklearn.cluster import KMeans\n",
    "from sklearn.feature_extraction.text import TfidfVectorizer\n",
    "from sklearn.metrics.pairwise import sigmoid_kernel\n",
    "import datetime as dt\n",
    "%matplotlib inline"
   ]
  },
  {
   "cell_type": "code",
   "execution_count": 2,
   "metadata": {},
   "outputs": [],
   "source": [
    "rating_df = pd.read_csv(\"Datasets/updated_new.csv\")"
   ]
  },
  {
   "cell_type": "code",
   "execution_count": 3,
   "metadata": {},
   "outputs": [],
   "source": [
    "rating_df = rating_df[rating_df['StockCode'] != \"BANK CHARGES\"]\n",
    "rating_df = rating_df[rating_df['StockCode'] != \"DOT\"]\n",
    "rating_df = rating_df[rating_df['StockCode'] != \"C2\"]\n",
    "rating_df = rating_df[rating_df['StockCode'] != \"PADS\"]"
   ]
  },
  {
   "cell_type": "code",
   "execution_count": 4,
   "metadata": {},
   "outputs": [
    {
     "data": {
      "text/plain": [
       "0          WHITE HANGING HEART T-LIGHT HOLDER\n",
       "1                         WHITE METAL LANTERN\n",
       "2              CREAM CUPID HEARTS COAT HANGER\n",
       "3         KNITTED UNION FLAG HOT WATER BOTTLE\n",
       "4              RED WOOLLY HOTTIE WHITE HEART.\n",
       "                         ...                 \n",
       "263907              LETTER \"W\" BLING KEY RING\n",
       "263909              LETTER \"Z\" BLING KEY RING\n",
       "264772         PINK CRYSTAL SKULL PHONE CHARM\n",
       "266980     CREAM HANGING HEART T-LIGHT HOLDER\n",
       "267864            PAPER CRAFT , LITTLE BIRDIE\n",
       "Name: Description, Length: 3872, dtype: object"
      ]
     },
     "execution_count": 4,
     "metadata": {},
     "output_type": "execute_result"
    }
   ],
   "source": [
    "product_description = rating_df['Description'].drop_duplicates()\n",
    "product_description"
   ]
  },
  {
   "cell_type": "code",
   "execution_count": 5,
   "metadata": {},
   "outputs": [],
   "source": [
    "tfv =  TfidfVectorizer(min_df=3, max_features=1000, analyzer=\"word\", \n",
    "                       stop_words=\"english\", ngram_range = (1, 3),\n",
    "                      strip_accents='unicode' , token_pattern = r'\\w{1,}')\n",
    "\n",
    "product_description = product_description.fillna(\" \")"
   ]
  },
  {
   "cell_type": "code",
   "execution_count": 6,
   "metadata": {},
   "outputs": [
    {
     "data": {
      "text/plain": [
       "<3000x1000 sparse matrix of type '<class 'numpy.float64'>'\n",
       "\twith 13941 stored elements in Compressed Sparse Row format>"
      ]
     },
     "execution_count": 6,
     "metadata": {},
     "output_type": "execute_result"
    }
   ],
   "source": [
    "tfv_matrix = tfv.fit_transform(product_description.head(3000))\n",
    "tfv_matrix"
   ]
  },
  {
   "cell_type": "code",
   "execution_count": 7,
   "metadata": {},
   "outputs": [],
   "source": [
    "sig = sigmoid_kernel(tfv_matrix,tfv_matrix)"
   ]
  },
  {
   "cell_type": "code",
   "execution_count": 8,
   "metadata": {},
   "outputs": [
    {
     "data": {
      "text/plain": [
       "array([0.76163876, 0.76201381, 0.76159416, ..., 0.76166455, 0.76159416,\n",
       "       0.76166272])"
      ]
     },
     "execution_count": 8,
     "metadata": {},
     "output_type": "execute_result"
    }
   ],
   "source": [
    "sig[1]"
   ]
  },
  {
   "cell_type": "code",
   "execution_count": 9,
   "metadata": {},
   "outputs": [],
   "source": [
    "indices = pd.Series(product_description.head(3872).index,index=product_description[0:3872]).drop_duplicates()"
   ]
  },
  {
   "cell_type": "code",
   "execution_count": 10,
   "metadata": {},
   "outputs": [
    {
     "data": {
      "text/plain": [
       "Description\n",
       "WHITE HANGING HEART T-LIGHT HOLDER     0\n",
       "WHITE METAL LANTERN                    1\n",
       "CREAM CUPID HEARTS COAT HANGER         2\n",
       "KNITTED UNION FLAG HOT WATER BOTTLE    3\n",
       "RED WOOLLY HOTTIE WHITE HEART.         4\n",
       "SET 7 BABUSHKA NESTING BOXES           5\n",
       "GLASS STAR FROSTED T-LIGHT HOLDER      6\n",
       "HAND WARMER UNION JACK                 7\n",
       "HAND WARMER RED POLKA DOT              8\n",
       "ASSORTED COLOUR BIRD ORNAMENT          9\n",
       "dtype: int64"
      ]
     },
     "execution_count": 10,
     "metadata": {},
     "output_type": "execute_result"
    }
   ],
   "source": [
    "indices.head(10)"
   ]
  },
  {
   "cell_type": "code",
   "execution_count": 21,
   "metadata": {},
   "outputs": [],
   "source": [
    "def content_recomm(title,sig=sig):\n",
    "    ind = indices[title]\n",
    "    sig_scores = list(enumerate(sig[ind]))\n",
    "    sig_scores = sorted(sig_scores, key = lambda x: x[1] , reverse=True)\n",
    "    sig_scores = sig_scores[1:11]\n",
    "    product_indices = [i[0] for i in sig_scores]\n",
    "    return product_description.iloc[product_indices]"
   ]
  },
  {
   "cell_type": "code",
   "execution_count": 20,
   "metadata": {},
   "outputs": [
    {
     "name": "stdout",
     "output_type": "stream",
     "text": [
      "[57, 500, 1907, 1036, 165, 1563, 303, 430, 1549, 1908]\n"
     ]
    },
    {
     "data": {
      "text/plain": [
       "['RED HANGING HEART T-LIGHT HOLDER',\n",
       " 'HEART T-LIGHT HOLDER ',\n",
       " 'HEART T-LIGHT HOLDER',\n",
       " 'GLASS HEART T-LIGHT HOLDER ',\n",
       " 'HANGING HEART ZINC T-LIGHT HOLDER',\n",
       " 'HANGING HEART JAR T-LIGHT HOLDER',\n",
       " 'SILVER HANGING T-LIGHT HOLDER',\n",
       " 'ROTATING LEAVES T-LIGHT HOLDER',\n",
       " 'PERIWINKLE T-LIGHT HOLDER',\n",
       " 'FOLK ART METAL HEART T-LIGHT HOLDER']"
      ]
     },
     "execution_count": 20,
     "metadata": {},
     "output_type": "execute_result"
    }
   ],
   "source": [
    "content_recomm('WHITE HANGING HEART T-LIGHT HOLDER')"
   ]
  },
  {
   "cell_type": "code",
   "execution_count": null,
   "metadata": {},
   "outputs": [],
   "source": []
  }
 ],
 "metadata": {
  "kernelspec": {
   "display_name": "Python 3",
   "language": "python",
   "name": "python3"
  },
  "language_info": {
   "codemirror_mode": {
    "name": "ipython",
    "version": 3
   },
   "file_extension": ".py",
   "mimetype": "text/x-python",
   "name": "python",
   "nbconvert_exporter": "python",
   "pygments_lexer": "ipython3",
   "version": "3.8.2"
  }
 },
 "nbformat": 4,
 "nbformat_minor": 4
}
